{
 "cells": [
  {
   "cell_type": "code",
   "execution_count": null,
   "metadata": {},
   "outputs": [],
   "source": [
    "#printing a shape\n",
    "print(\"   /|\")\n",
    "print(\"  / |\")\n",
    "print(\" /  |\")\n",
    "print(\"/___|\")\n",
    "print(\"Hey there this is a triangle!!!\")"
   ]
  },
  {
   "cell_type": "code",
   "execution_count": null,
   "metadata": {},
   "outputs": [],
   "source": [
    "#using variables\n",
    "character_name = \"Raju\"\n",
    "character_age = \"30\"\n",
    "print (\"There was once a boy named \" + character_name + \" and there still is.\")\n",
    "print (\"His age was \" + character_age + \"\")\n",
    "character_name = \"Baburao\"\n",
    "print(\"He found the name \" + character_name + \" very funny\")\n",
    "print (\"Although he hated to be \" + character_age + \" for some reason\")\n",
    "print (\"I just recreated hera pheri main charaters\")"
   ]
  },
  {
   "cell_type": "code",
   "execution_count": null,
   "metadata": {},
   "outputs": [],
   "source": [
    "#working with strings and learning functions\n",
    "print(\"This\\nis\\nAmritaash Verma\")\n",
    "name =  \"AMritAAsh VerMA\"\n",
    "print (name.lower() + \" is in lower case.\")\n",
    "print (name.upper() + \" is in upper case\")\n",
    "print (name + \" is the normal text\")\n",
    "print (name.lower().islower())\n",
    "print (len(name))\n",
    "print (name[4])\n",
    "print (name.index(\"h\"))\n",
    "print (name.replace(\"M\", \"n\"))"
   ]
  },
  {
   "cell_type": "code",
   "execution_count": null,
   "metadata": {},
   "outputs": [],
   "source": [
    "#working with numbers\n",
    "print (4.2)\n",
    "print (5 + 4)\n",
    "print (9 * (4 + 3))\n",
    "print (9 / 3)#gives out the quotient\n",
    "print (10 % 3)#gives out the remainder\n",
    "my_num = 69\n",
    "print (my_num)#leaves the number as a number\n",
    "print (str(my_num) + \" is a funny number\")#converts the number into a string\n",
    "my_num = -69\n",
    "print (abs(my_num))#used to convert any value to absolute value\n",
    "print (pow(13, 2))#this function squares the number so basically this is 13 squared\n",
    "print (max(4, 6))#gives out the biggger number\n",
    "print (min(4, 6))#gives out the smaller number\n",
    "print (round(5.7))#rounds the numbers\n",
    "from math import*#this line of code gives us access to a lot more math functions\n",
    "print (floor(4.7))#gets rid of the decimal point\n",
    "print (ceil(5.4))#rounds up the number no matter what\n",
    "print (sqrt(25))#finds the square root of numbersgetting input from users and some extra info from the web\n"
   ]
  },
  {
   "cell_type": "code",
   "execution_count": null,
   "metadata": {},
   "outputs": [],
   "source": [
    "#random if else and input testing\n",
    "sign_up = input (\"Enter the login id you want over here: \")\n",
    "password = input (\"Enter your password over here: \")\n",
    "print (\"Are you sure you want to continue with this login id: \" + sign_up + \"\\nAnd this password: \" + password)\n",
    "response = input (\"yes or no(y = yes, n = no)?\")\n",
    "if response in [\"y\", \"Y\"]:\n",
    "    print (\"You have successfully created an account!!!\")\n",
    "else:\n",
    "    sign_up = input (\"Enter login id over here: \")\n",
    "    password = input (\"Enter password here: \")\n",
    "    print (\"Thus this is your final login id: \" + sign_up + \" and password: \" + password)"
   ]
  },
  {
   "cell_type": "code",
   "execution_count": null,
   "metadata": {},
   "outputs": [],
   "source": [
    "#the parameters in def functions\n",
    "\n",
    "def say_hi(name):\n",
    "    print(\"Hello\", name)\n",
    "say_hi(\"Amritaash!\")\n",
    "def sayhi_and_age(name, age):\n",
    "    print(\"Hello\", name)\n",
    "    print(\"Your inputted age is:\", age)\n",
    "sayhi_and_age(input(\"Enter your name: \"), input(\"Enter your age: \"))"
   ]
  },
  {
   "cell_type": "code",
   "execution_count": null,
   "metadata": {},
   "outputs": [],
   "source": [
    "#return statement\n",
    "\n",
    "def cube(num):\n",
    "    return num**3\n",
    "    #can't execute any code after the return statement in the function, return ends the function unless it is indented into a different function or if statement.\n",
    "result  = cube(2)\n",
    "print(result)"
   ]
  },
  {
   "cell_type": "code",
   "execution_count": null,
   "metadata": {},
   "outputs": [],
   "source": [
    "#dictionaries\n",
    "\n",
    "monthconversions = {\n",
    "    1 : \"January\", \n",
    "    2 : \"February\",\n",
    "    3 : \"March\", \n",
    "    4 : \"April\",\n",
    "    5 : \"May\",\n",
    "    6 : \"June\", \n",
    "    7 : \"July\",\n",
    "    8 : \"August\", \n",
    "    9 : \"September\",\n",
    "    10 : \"October\", \n",
    "    11 : \"November\", \n",
    "    12 : \"December\"\n",
    "}\n",
    "print(monthconversions[1])\n",
    "print(monthconversions.get(12))\n",
    "print(monthconversions.get(13, \"Not a valid value\"))"
   ]
  },
  {
   "cell_type": "code",
   "execution_count": null,
   "metadata": {},
   "outputs": [],
   "source": [
    "#guess game\n",
    "\n",
    "guess_count = 0\n",
    "guess_limit = 3\n",
    "out_of_guesses_ = False\n",
    "word = \"giraffe\" \n",
    "guess = \"\"\n",
    "\n",
    "while guess != word and not(out_of_guesses_):\n",
    "    if guess_count < guess_limit:\n",
    "        guess = input(\"Enter your guess no. \" + str(guess_count + 1) + \": \")\n",
    "        guess_count += 1\n",
    "    else:\n",
    "        out_of_guesses_ = True\n",
    "\n",
    "if out_of_guesses_ == True:\n",
    "    print(\"You lost!! :-(\")\n",
    "elif out_of_guesses_ == False:\n",
    "    print(\"You won!! It took you\", guess_count, \"guesses. :-)\")\n",
    "#the variables with boolean values, when they are checked they are always checked for is true value."
   ]
  },
  {
   "cell_type": "code",
   "execution_count": null,
   "metadata": {},
   "outputs": [],
   "source": [
    "#for loop\n",
    "\n",
    "for index in range(5):\n",
    "    print(str(index + 1) + \". Iteration\")"
   ]
  },
  {
   "cell_type": "code",
   "execution_count": null,
   "metadata": {},
   "outputs": [],
   "source": [
    "#exponent function using for loop\n",
    "\n",
    "def exponent(base, pow):\n",
    "    result = 1\n",
    "    for i in range(pow):\n",
    "        result = base * result\n",
    "    return result\n",
    "\n",
    "print(exponent(2, 0))"
   ]
  },
  {
   "cell_type": "code",
   "execution_count": null,
   "metadata": {},
   "outputs": [],
   "source": [
    "#2d lists and nested loops\n",
    "\n",
    "number_grid = [\n",
    "    [1, 2, 3], #this line is a row in the number grid and 1 to 0 is a column in the number grid.\n",
    "    [4, 5, 6], \n",
    "    [7, 8, 9], \n",
    "    [0]\n",
    "]\n",
    "\n",
    "print(number_grid[0][1])#the first index is the row number and the second index is the column number 2\n",
    "print(number_grid[2][2])#9\n",
    "print('All the elements in the number grid are as follows: ')\n",
    "#printing out each and every element of the number grid individually by nested loops\n",
    "\n",
    "for row in number_grid:\n",
    "    for column in row:\n",
    "        print(column)\n",
    "\n"
   ]
  },
  {
   "cell_type": "code",
   "execution_count": null,
   "metadata": {},
   "outputs": [],
   "source": [
    "#building a translator\n",
    "#in this all the vowels in the phrase become f\n",
    "def translate(phrase):\n",
    "    translation = \"\"\n",
    "    for letter in phrase:\n",
    "        if letter in \"AEIOUaeiou\":\n",
    "            if letter.isupper():\n",
    "                translation = translation + \"F\"\n",
    "            else: \n",
    "                translation = translation + \"f\"\n",
    "        else:\n",
    "            translation = translation + letter\n",
    "    print(translation)\n",
    "\n",
    "translate(input(\"Enter the word or phrase you want to translate in brain language: \"))\n"
   ]
  },
  {
   "cell_type": "code",
   "execution_count": null,
   "metadata": {},
   "outputs": [],
   "source": [
    "#try and except\n",
    "\n",
    "try:\n",
    "    number = float(input(\"Enter a number: \"))\n",
    "    print(number)\n",
    "except ValueError:\n",
    "    print(\"Enter a real number you moron!\")\n",
    "    number = float(input(\"Enter a number: \"))\n",
    "    print(number)"
   ]
  },
  {
   "cell_type": "code",
   "execution_count": null,
   "metadata": {},
   "outputs": [],
   "source": [
    "#opening and reading files(always close opened files)\n",
    "\n",
    "employee_file = open(\"learningsmth.txt\", \"r\")\n",
    "#print(employee_file.read()) #prints out all the content in the file \n",
    "print(employee_file.readlines())#prints out all the lines at diffferent indexes in the form of a list\n",
    "#for employee in employee_file.readlines():\n",
    "#    print(employee)#this for loop will print out every line\n",
    "employee_file.close()"
   ]
  },
  {
   "cell_type": "code",
   "execution_count": null,
   "metadata": {},
   "outputs": [],
   "source": [
    "#writing to files\n",
    "\n",
    "employee_file = open(\"learningsmth.txt\", \"a\")\n",
    "employee_file.write(\"\\nToby Maguire- HR\")\n",
    "employee_file.close()"
   ]
  },
  {
   "cell_type": "code",
   "execution_count": null,
   "metadata": {},
   "outputs": [],
   "source": [
    "#Inheritance, Classes and objects, object functions and building a mulitple choice quiz tutorials are all in their individual files."
   ]
  },
  {
   "cell_type": "code",
   "execution_count": null,
   "metadata": {},
   "outputs": [],
   "source": [
    "'''enumerate is used when you are looping through \n",
    "the items of a list and you need the index position\n",
    " as well'''\n",
    "\n",
    "this_is_list = ['first', 'second', 'thrid', 'fourth', 'fifth']\n",
    "\n",
    "for i, ordinaux in enumerate(this_is_list):\n",
    "    print(ordinaux, \"is on index\", i)\n",
    "\n",
    "    "
   ]
  }
 ],
 "metadata": {
  "kernelspec": {
   "display_name": "Python 3",
   "language": "python",
   "name": "python3"
  },
  "language_info": {
   "codemirror_mode": {
    "name": "ipython",
    "version": 3
   },
   "file_extension": ".py",
   "mimetype": "text/x-python",
   "name": "python",
   "nbconvert_exporter": "python",
   "pygments_lexer": "ipython3",
   "version": "3.12.1"
  },
  "orig_nbformat": 4,
  "vscode": {
   "interpreter": {
    "hash": "9f4fc60b5a30212d5bb2bac6b8c5dd734626c06304b18fb071330fea88dba463"
   }
  }
 },
 "nbformat": 4,
 "nbformat_minor": 2
}
