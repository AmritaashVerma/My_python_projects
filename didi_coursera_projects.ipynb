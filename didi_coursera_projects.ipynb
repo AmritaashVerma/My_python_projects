{
 "cells": [
  {
   "cell_type": "code",
   "execution_count": null,
   "metadata": {
    "tags": [
     "is narcisstic"
    ]
   },
   "outputs": [],
   "source": [
    "#is narcisstic \n",
    "\n",
    "res = input(\"which number do you want to check whether it is a narcissist or not: \")\n",
    "x = res\n",
    "size = len(str(x))\n",
    "list_ = [*str(x)]\n",
    "\n",
    "def narcisst():\n",
    "\tif ans / int(x) == 1:\n",
    "\t\tprint(\"Success!\\n\" + x + \" is a narcissistic number\")\n",
    "\telse:\n",
    "\t\tprint(x)\n",
    "\t\tprint(\"Fail\")\n",
    "\n",
    "if size == 4:\n",
    "\tans = int(pow(float(list_[0]), 4) + pow(float(list_[1]), 4) + pow(float(list_[2]), 4) + pow(float(list_[3]), 4))\n",
    "\tprint(str(ans))\n",
    "\tnarcisst()\n",
    "elif size == 2:\n",
    "\tans = int(pow(float(list_[0]), 2) + pow(float(list_[1]), 2))\n",
    "\tprint(str(ans))\n",
    "\tnarcisst()\n",
    "elif size == 3:\n",
    "\tans = int(pow(float(list_[0]), 3) + pow(float(list_[1]), 3) + pow(float(list_[2]), 3))\n",
    "\tprint(str(ans))\n",
    "\tnarcisst()\n",
    "else:\n",
    "\tprint(\"out of range\")"
   ]
  },
  {
   "cell_type": "code",
   "execution_count": 17,
   "metadata": {
    "tags": [
     "is abundant"
    ]
   },
   "outputs": [
    {
     "name": "stdout",
     "output_type": "stream",
     "text": [
      "Factors of 12 (except 12) are 1, 2, 3, 4, 6\n",
      "12 is an abundant number\n"
     ]
    }
   ],
   "source": [
    "#is abundant\n",
    "\n",
    "x = int(input(\"Enter the number you want to check is abundant or not: \"))\n",
    "list_ = [1]\n",
    "i = 1\n",
    "for i in range(1, x-1):\n",
    "\ti = i+1\n",
    "\tif x % i == 0:\n",
    "\t\tlist_.append(i)\n",
    "\n",
    "print(\"Factors of \" + str(x) + \" (except \"+ str(x) + \") are\", ', '.join(map(str, list_)))\n",
    "values = len(list_)\n",
    "total = sum(list_)\n",
    "if total > x:\n",
    "\tprint(str(x) + \" is an abundant number\")\n",
    "elif total <= x:\n",
    "\tprint(str(x) + \" is not an abundant number\")"
   ]
  },
  {
   "cell_type": "code",
   "execution_count": 20,
   "metadata": {
    "tags": [
     "perfect numbers"
    ]
   },
   "outputs": [
    {
     "name": "stdout",
     "output_type": "stream",
     "text": [
      "The proper divisors (except 12 ) are:  1, 2, 3, 4, 6 .\n",
      "12 is not a perfect number.\n"
     ]
    }
   ],
   "source": [
    "#perfect numbers\n",
    "\n",
    "x = int(input(\"Enter the number you want to check whether it is perfect or not: \"))\n",
    "HCFs = []\n",
    "\n",
    "for i in range(0, x-1):\n",
    "    i += 1\n",
    "    if x % i == 0:\n",
    "        HCFs.append(i)\n",
    "modded_HCFs = ', '.join(map(str, HCFs))\n",
    "\n",
    "print(\"The proper divisors (except\", x, \") are: \", (modded_HCFs), \".\")\n",
    "\n",
    "if sum(HCFs) == x:\n",
    "    print(x, \"is a perfect number.\")\n",
    "else:\n",
    "    print(x, \"is not a perfect number.\")"
   ]
  },
  {
   "cell_type": "code",
   "execution_count": 3,
   "metadata": {},
   "outputs": [
    {
     "name": "stdout",
     "output_type": "stream",
     "text": [
      "The number of vowels in the word baedenheel is 5\n"
     ]
    }
   ],
   "source": [
    "#vowel checker in a word\n",
    "\n",
    "word = list(input(\"Enter the word: \"))\n",
    "index = 0\n",
    "vowel_count = 0\n",
    "while not index > (len(word) - 1):\n",
    "    if word[index] == 'a' or word[index] == 'e' or word[index] == 'i' or word[index] == 'o' or word[index] == 'u':\n",
    "        vowel_count = vowel_count + 1\n",
    "    index += 1\n",
    "print(\"The number of vowels in the word\", ''.join(word), \"is\", vowel_count)"
   ]
  },
  {
   "cell_type": "code",
   "execution_count": 39,
   "metadata": {},
   "outputs": [
    {
     "name": "stdout",
     "output_type": "stream",
     "text": [
      "The number of words in the sentence is 9.\n"
     ]
    }
   ],
   "source": [
    "#number of words in a sentence checker\n",
    "\n",
    "sentence = list(input(\"Enter a sentence: \"))\n",
    "index = 0\n",
    "space_count = 0\n",
    "while not index > (len(sentence) - 1):\n",
    "    if sentence[index] == ' ':\n",
    "        space_count = space_count + 1\n",
    "    index += 1\n",
    "print(\"The number of words in the sentence is\", str(space_count + 1) + \".\")"
   ]
  }
 ],
 "metadata": {
  "kernelspec": {
   "display_name": "Python 3",
   "language": "python",
   "name": "python3"
  },
  "language_info": {
   "codemirror_mode": {
    "name": "ipython",
    "version": 3
   },
   "file_extension": ".py",
   "mimetype": "text/x-python",
   "name": "python",
   "nbconvert_exporter": "python",
   "pygments_lexer": "ipython3",
   "version": "3.8.10"
  },
  "orig_nbformat": 4,
  "vscode": {
   "interpreter": {
    "hash": "9f4fc60b5a30212d5bb2bac6b8c5dd734626c06304b18fb071330fea88dba463"
   }
  }
 },
 "nbformat": 4,
 "nbformat_minor": 2
}
