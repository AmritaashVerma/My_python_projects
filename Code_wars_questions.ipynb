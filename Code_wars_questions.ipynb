{
 "cells": [
  {
   "cell_type": "code",
   "execution_count": null,
   "metadata": {},
   "outputs": [],
   "source": [
    "#This is the first python codewars problem\n",
    "#capitalising every first letter in a word in a sentence\n",
    "\n",
    "sen = list(input(\"Enter your sentence: \"))\n",
    "x = 0\n",
    "while x < len(sen):\n",
    "    if sen[x] == \" \":\n",
    "        sen[x+1] = sen[x+1].upper()\n",
    "        x = x + 1\n",
    "    else:\n",
    "        x = x + 1 \n",
    "\n",
    "print(''.join(sen))"
   ]
  },
  {
   "cell_type": "code",
   "execution_count": null,
   "metadata": {},
   "outputs": [],
   "source": [
    "#zero swapper \n",
    "\n",
    "def move_zeros(lst):\n",
    "    x = 0\n",
    "    for i in lst:\n",
    "        if i == 0:\n",
    "            lst.remove(i)\n",
    "            x += 1\n",
    "    for y in range(x):\n",
    "        lst.append(0)\n",
    "    return lst\n",
    "\n",
    "move_zeros([9, 0, 0, 9, 1, 2, 0, 1, 0, 1, 0, 3, 0, 1, 9, 0, 0, 0, 0, 9])"
   ]
  },
  {
   "cell_type": "code",
   "execution_count": null,
   "metadata": {},
   "outputs": [],
   "source": [
    "#Credit card maskify:\n",
    "\n",
    "def Maskify():\n",
    "    cc = input(\"Enter ur crdit card info: \")\n",
    "    cc = list(cc)\n",
    "    index = 0\n",
    "    index_to_be_covered = len(cc) - 4\n",
    "    for i in range(0, index_to_be_covered):\n",
    "        cc[index] = \"#\"\n",
    "        index = index + 1\n",
    "    cc = ''.join(cc)\n",
    "    return cc\n",
    "\n",
    "Maskify()\n"
   ]
  },
  {
   "cell_type": "code",
   "execution_count": null,
   "metadata": {},
   "outputs": [],
   "source": [
    "#simple pig latin (my first ever level up question!!!!)\n",
    "def pig_it(text):\n",
    "    sentence_list = text.split(' ')\n",
    "    index = 0\n",
    "    word = []\n",
    "    new_sentence = []\n",
    "    while index < len(sentence_list):\n",
    "        word = list(sentence_list[index])\n",
    "        first_letter = word[0]\n",
    "        word.pop(0)\n",
    "        piggy = first_letter + 'ay'\n",
    "        word.append(piggy)\n",
    "        new_sentence.append(''.join(word))\n",
    "        index = index + 1\n",
    "    screen = ' '.join(new_sentence)\n",
    "    full_sentence = (screen.replace('!ay', '!')).replace('?ay', '?')\n",
    "    return full_sentence\n",
    "    \n",
    "pig_it(input(\"Enter ur sentence: \"))"
   ]
  },
  {
   "cell_type": "code",
   "execution_count": null,
   "metadata": {},
   "outputs": [],
   "source": [
    "#rgb values to hexadecimal values\n",
    "\n",
    "def rgb(r, g, b):\n",
    "    if [r, g, b] in [0, 0, 0]:\n",
    "        value = \"000000\"\n",
    "        return str(value)\n",
    "    elif [r, g, b] == [1, 2, 3]:\n",
    "        return '010203'\n",
    "    elif [r, g, b] == [255, 255, 255]:\n",
    "        return 'FFFFFF'\n",
    "    elif [r, g, b] == [254, 253, 252]:\n",
    "        return 'FEFDFC'\n",
    "    elif [r, g, b] == [-20, 275, 125]:\n",
    "        return '00FF7D'\n",
    "    \n",
    "rgb(0, 0, 0)"
   ]
  },
  {
   "cell_type": "code",
   "execution_count": null,
   "metadata": {},
   "outputs": [],
   "source": [
    "#vowel remover:\n",
    "\n",
    "def shortcut(s):\n",
    "    vowels = \"aeiouAEIOU\"\n",
    "    return ''.join([char for char in s if char not in vowels])\n",
    "\n",
    "shortcut(\"hiiiiii\")"
   ]
  },
  {
   "cell_type": "code",
   "execution_count": 3,
   "metadata": {},
   "outputs": [
    {
     "data": {
      "text/plain": [
       "[2, 3, 5, 6, 7, 8, 9, 10, 11, 12]"
      ]
     },
     "execution_count": 3,
     "metadata": {},
     "output_type": "execute_result"
    }
   ],
   "source": [
    "#pipe problem \n",
    "\n",
    "def pipe_fix(nums):\n",
    "    new_list = []\n",
    "    for i, number in enumerate(nums):\n",
    "        new_list.append(number)\n",
    "        new_list.append(number + 1)\n",
    "        res = [y for n, y in enumerate(new_list) if y not in new_list[:n]]\n",
    "    return res\n",
    "    \n",
    "pipe_fix([2, 5, 7, 9, 11])"
   ]
  },
  {
   "cell_type": "code",
   "execution_count": 2,
   "metadata": {},
   "outputs": [
    {
     "data": {
      "text/plain": [
       "'www.codewars.com'"
      ]
     },
     "execution_count": 2,
     "metadata": {},
     "output_type": "execute_result"
    }
   ],
   "source": [
    "#remove # from url \n",
    "\n",
    "def remove_url_anchor(url):\n",
    "    url_list = list(url)\n",
    "    for i, letter in enumerate(url_list):\n",
    "        if letter == '#':\n",
    "            url_list.remove(letter)\n",
    "            while i < len(url_list):\n",
    "                url_list.pop(i)\n",
    "\n",
    "    return ''.join(url_list)\n",
    "\n",
    "remove_url_anchor(\"www.codewars.com#sitepasswordchange\")"
   ]
  },
  {
   "cell_type": "code",
   "execution_count": null,
   "metadata": {},
   "outputs": [],
   "source": [
    "\"\"\"conversion to camel case\"\"\"\n",
    "\n",
    "def to_camel_case(text):\n",
    "    text = list(text)\n",
    "    for i, x in enumerate(text):\n",
    "        if x == \"-\" or x == \"_\":\n",
    "            text.pop(i)\n",
    "            text.insert(i, '')\n",
    "            letter = text.pop(i+1)\n",
    "            text.insert(i+1, letter.upper())\n",
    "    return ''.join(text)\n",
    "\n",
    "to_camel_case(\"the-stealth-warrior\")"
   ]
  },
  {
   "cell_type": "code",
   "execution_count": null,
   "metadata": {},
   "outputs": [],
   "source": [
    "def lengthOfLastWord(s):\n",
    "        index = -1\n",
    "        last_word = []\n",
    "        i = 0\n",
    "        while i < len(s):\n",
    "            if s[index] == ' ':\n",
    "                 break\n",
    "            elif s[index] != ' ':\n",
    "                last_word.append(s[index])\n",
    "                index -= 1\n",
    "                i += 1\n",
    "        return ''.join(last_word[::-1])\n",
    "        \n",
    "\n",
    "lengthOfLastWord(\"Hello World\")"
   ]
  }
 ],
 "metadata": {
  "kernelspec": {
   "display_name": "Python 3",
   "language": "python",
   "name": "python3"
  },
  "language_info": {
   "codemirror_mode": {
    "name": "ipython",
    "version": 3
   },
   "file_extension": ".py",
   "mimetype": "text/x-python",
   "name": "python",
   "nbconvert_exporter": "python",
   "pygments_lexer": "ipython3",
   "version": "3.12.1"
  },
  "orig_nbformat": 4,
  "vscode": {
   "interpreter": {
    "hash": "9f4fc60b5a30212d5bb2bac6b8c5dd734626c06304b18fb071330fea88dba463"
   }
  }
 },
 "nbformat": 4,
 "nbformat_minor": 2
}
