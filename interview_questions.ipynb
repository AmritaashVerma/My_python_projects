{
 "cells": [
  {
   "cell_type": "code",
   "execution_count": null,
   "metadata": {},
   "outputs": [],
   "source": [
    "#fizzbuzz\n",
    "\n",
    "from timeit import default_timer as timer\n",
    "\n",
    "start = timer() \n",
    "\n",
    "i = 1\n",
    "\n",
    "while i <= 100:\n",
    "\tif i % 3 == 0:\n",
    "\t\tprint(\"Fizz\")\n",
    "\t\ti = i+1\n",
    "\telif i % 5 == 0:\n",
    "\t\tprint(\"Buzz\")\n",
    "\t\ti = i+1\n",
    "\telif i % 3 and i % 5 == 0:\n",
    "\t\tprint(\"FizzBuzz\")\n",
    "\t\ti = i+1\n",
    "\telif i % 7 == 0:\n",
    "\t\tprint(\"Beez\")\n",
    "\t\ti = i+1\n",
    "\telse:\n",
    "\t\tprint(i)\n",
    "\t\ti = i+1\n",
    "\n",
    "end = timer()\n",
    "\n",
    "print(start-end)"
   ]
  },
  {
   "cell_type": "code",
   "execution_count": null,
   "metadata": {},
   "outputs": [],
   "source": [
    "# fizzbuzz using lambda\n",
    "\n",
    "print(*map(lambda i: 'Fizz'*(not i%3)+'Buzz'*(not i%5)+'FizzBuzz'*(not i%3 and 5)+'Beez'*(not i%7) or i, range(1,101)),sep='\\n')"
   ]
  },
  {
   "cell_type": "code",
   "execution_count": null,
   "metadata": {},
   "outputs": [],
   "source": [
    "#taxes \n",
    "from array import *\n",
    "\n",
    "\n",
    "def taxes(x):\n",
    "    tax_percent = str(input(\"Enter the tax percent: \"))\n",
    "    tax_percent = int(tax_percent.replace('%', ''))\n",
    "    x = (tax_percent/100 * x) + x\n",
    "    #convert rupees to paise:\n",
    "    paise = x * 100\n",
    "    print(paise, \"paise is the amount(inclusive of all taxes)\")\n",
    "\n",
    "taxes(int(input(\"Enter the amount (inr): \")))"
   ]
  },
  {
   "cell_type": "code",
   "execution_count": null,
   "metadata": {},
   "outputs": [],
   "source": [
    "#anagram\n",
    "word1 = list((input(\"Enter the first word\").lower()).replace(' ', ''))\n",
    "word2 = list((input(\"Enter the second word\").lower()).replace(' ', ''))\n",
    "word1_arranged = ''.join(sorted(word1))\n",
    "word2_arranged = ''.join(sorted(word2))\n",
    "if len(word1) == len(word2):\n",
    "    if word1_arranged == word2_arranged:\n",
    "        print(str(' '.join(word1)), \"is an anagram with the same length and letters as\", str(' '.join(word2)), \".\")\n",
    "    else:\n",
    "        print(str(' '.join(word1)), \"is an anagram with only the same number of letters as\", str(' '.join(word2)), \".\")\n",
    "else:\n",
    "    print(str(' '.join(word1)), \"and\", str(' '.join(word2)), \"are not anagrams.\")\n"
   ]
  }
 ],
 "metadata": {
  "kernelspec": {
   "display_name": "Python 3",
   "language": "python",
   "name": "python3"
  },
  "language_info": {
   "codemirror_mode": {
    "name": "ipython",
    "version": 3
   },
   "file_extension": ".py",
   "mimetype": "text/x-python",
   "name": "python",
   "nbconvert_exporter": "python",
   "pygments_lexer": "ipython3",
   "version": "3.8.10"
  },
  "orig_nbformat": 4,
  "vscode": {
   "interpreter": {
    "hash": "9f4fc60b5a30212d5bb2bac6b8c5dd734626c06304b18fb071330fea88dba463"
   }
  }
 },
 "nbformat": 4,
 "nbformat_minor": 2
}
