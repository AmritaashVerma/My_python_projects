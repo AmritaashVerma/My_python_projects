{
 "cells": [
  {
   "cell_type": "code",
   "execution_count": 2,
   "metadata": {},
   "outputs": [
    {
     "name": "stdout",
     "output_type": "stream",
     "text": [
      "1\n",
      "2\n",
      "Fizz\n",
      "4\n",
      "Buzz\n",
      "Fizz\n",
      "Beez\n",
      "8\n",
      "Fizz\n",
      "Buzz\n",
      "11\n",
      "Fizz\n",
      "13\n",
      "Beez\n",
      "Fizz\n",
      "16\n",
      "17\n",
      "Fizz\n",
      "19\n",
      "Buzz\n",
      "Fizz\n",
      "22\n",
      "23\n",
      "Fizz\n",
      "Buzz\n",
      "26\n",
      "Fizz\n",
      "Beez\n",
      "29\n",
      "Fizz\n",
      "31\n",
      "32\n",
      "Fizz\n",
      "34\n",
      "Buzz\n",
      "Fizz\n",
      "37\n",
      "38\n",
      "Fizz\n",
      "Buzz\n",
      "41\n",
      "Fizz\n",
      "43\n",
      "44\n",
      "Fizz\n",
      "46\n",
      "47\n",
      "Fizz\n",
      "Beez\n",
      "Buzz\n",
      "Fizz\n",
      "52\n",
      "53\n",
      "Fizz\n",
      "Buzz\n",
      "Beez\n",
      "Fizz\n",
      "58\n",
      "59\n",
      "Fizz\n",
      "61\n",
      "62\n",
      "Fizz\n",
      "64\n",
      "Buzz\n",
      "Fizz\n",
      "67\n",
      "68\n",
      "Fizz\n",
      "Buzz\n",
      "71\n",
      "Fizz\n",
      "73\n",
      "74\n",
      "Fizz\n",
      "76\n",
      "Beez\n",
      "Fizz\n",
      "79\n",
      "Buzz\n",
      "Fizz\n",
      "82\n",
      "83\n",
      "Fizz\n",
      "Buzz\n",
      "86\n",
      "Fizz\n",
      "88\n",
      "89\n",
      "Fizz\n",
      "Beez\n",
      "92\n",
      "Fizz\n",
      "94\n",
      "Buzz\n",
      "Fizz\n",
      "97\n",
      "Beez\n",
      "Fizz\n",
      "Buzz\n",
      "-0.00040079999598674476\n"
     ]
    }
   ],
   "source": [
    "#fizzbuzz\n",
    "\n",
    "from timeit import default_timer as timer\n",
    "\n",
    "start = timer() \n",
    "\n",
    "i = 1\n",
    "\n",
    "while i <= 100:\n",
    "\tif i % 3 == 0:\n",
    "\t\tprint(\"Fizz\")\n",
    "\t\ti = i+1\n",
    "\telif i % 5 == 0:\n",
    "\t\tprint(\"Buzz\")\n",
    "\t\ti = i+1\n",
    "\telif i % 3 and i % 5 == 0:\n",
    "\t\tprint(\"FizzBuzz\")\n",
    "\t\ti = i+1\n",
    "\telif i % 7 == 0:\n",
    "\t\tprint(\"Beez\")\n",
    "\t\ti = i+1\n",
    "\telse:\n",
    "\t\tprint(i)\n",
    "\t\ti = i+1\n",
    "\n",
    "end = timer()\n",
    "\n",
    "print(start-end)"
   ]
  },
  {
   "cell_type": "code",
   "execution_count": null,
   "metadata": {},
   "outputs": [],
   "source": [
    "# fizzbuzz using lambda\n",
    "\n",
    "print(*map(lambda i: 'Fizz'*(not i%3)+'Buzz'*(not i%5)+'FizzBuzz'*(not i%3 and 5)+'Beez'*(not i%7) or i, range(1,101)),sep='\\n')"
   ]
  },
  {
   "cell_type": "code",
   "execution_count": 1,
   "metadata": {},
   "outputs": [
    {
     "data": {
      "text/plain": [
       "3628800"
      ]
     },
     "execution_count": 1,
     "metadata": {},
     "output_type": "execute_result"
    }
   ],
   "source": [
    "#factorial\n",
    "\n",
    "def factorial(n):\n",
    "    if (n == 0 or n == 1):\n",
    "        return 1\n",
    "    else:\n",
    "        return n * factorial(n-1)\n",
    "    \n",
    "factorial(10)"
   ]
  },
  {
   "cell_type": "code",
   "execution_count": null,
   "metadata": {},
   "outputs": [],
   "source": [
    "#taxes\n",
    "\n",
    "def taxes(x):\n",
    "    tax_percent = str(input(\"Enter the tax percent: \"))\n",
    "    tax_percent = int(tax_percent.replace('%', ''))\n",
    "    x = (tax_percent/100 * x) + x\n",
    "    #convert rupees to paise:\n",
    "    paise = x * 100\n",
    "    print(paise, \"paise is the amount(inclusive of all taxes)\")\n",
    "\n",
    "taxes(int(input(\"Enter the amount (inr): \")))"
   ]
  },
  {
   "cell_type": "code",
   "execution_count": null,
   "metadata": {},
   "outputs": [],
   "source": [
    "#anagram\n",
    "word1 = list((input(\"Enter the first word\").lower()).replace(' ', ''))\n",
    "word2 = list((input(\"Enter the second word\").lower()).replace(' ', ''))\n",
    "word1_arranged = ''.join(sorted(word1))\n",
    "word2_arranged = ''.join(sorted(word2))\n",
    "if len(word1) == len(word2):\n",
    "    if word1_arranged == word2_arranged:\n",
    "        print(str(' '.join(word1)), \"is an anagram with the same length and letters as\", str(' '.join(word2)), \".\")\n",
    "    else:\n",
    "        print(str(' '.join(word1)), \"is an anagram with only the same number of letters as\", str(' '.join(word2)), \".\")\n",
    "else:\n",
    "    print(str(' '.join(word1)), \"and\", str(' '.join(word2)), \"are not anagrams.\")\n"
   ]
  }
 ],
 "metadata": {
  "kernelspec": {
   "display_name": "Python 3",
   "language": "python",
   "name": "python3"
  },
  "language_info": {
   "codemirror_mode": {
    "name": "ipython",
    "version": 3
   },
   "file_extension": ".py",
   "mimetype": "text/x-python",
   "name": "python",
   "nbconvert_exporter": "python",
   "pygments_lexer": "ipython3",
   "version": "3.12.1"
  },
  "orig_nbformat": 4,
  "vscode": {
   "interpreter": {
    "hash": "9f4fc60b5a30212d5bb2bac6b8c5dd734626c06304b18fb071330fea88dba463"
   }
  }
 },
 "nbformat": 4,
 "nbformat_minor": 2
}
